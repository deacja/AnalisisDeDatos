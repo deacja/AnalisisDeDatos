{
 "cells": [
  {
   "cell_type": "markdown",
   "id": "af0517ec-88ed-4d5e-a5dc-3837adbbb187",
   "metadata": {},
   "source": [
    "# **Regresión Lineal** #"
   ]
  },
  {
   "cell_type": "markdown",
   "id": "ad7a2b77-c36d-47d8-b4d3-74d8678df79c",
   "metadata": {},
   "source": [
    "## Importar librerías"
   ]
  },
  {
   "cell_type": "code",
   "execution_count": 7,
   "id": "6f74799d-6b87-46c0-8c98-d13b0e9a87c5",
   "metadata": {
    "tags": []
   },
   "outputs": [],
   "source": [
    "import pandas as pd\n",
    "import numpy as np\n",
    "import matplotlib.pyplot as plt\n",
    "from sklearn.linear_model import LinearRegression"
   ]
  },
  {
   "cell_type": "markdown",
   "id": "cfbbc3e8-452d-4c5b-b742-7d42bf1f4adf",
   "metadata": {},
   "source": [
    "## Cargar Datos"
   ]
  },
  {
   "cell_type": "code",
   "execution_count": 3,
   "id": "1201f1da-c035-49e3-b344-fc20af7f9adf",
   "metadata": {
    "tags": []
   },
   "outputs": [],
   "source": [
    "datos = pd.read_csv('C:\\Repos\\Analisis de datos\\GitHub\\AnalisisDeDatos\\Datos\\RegLin\\data.csv')"
   ]
  },
  {
   "cell_type": "code",
   "execution_count": 4,
   "id": "6a572a8b-ad75-4422-af42-0bfe322ca8c6",
   "metadata": {
    "tags": []
   },
   "outputs": [
    {
     "data": {
      "text/html": [
       "<div>\n",
       "<style scoped>\n",
       "    .dataframe tbody tr th:only-of-type {\n",
       "        vertical-align: middle;\n",
       "    }\n",
       "\n",
       "    .dataframe tbody tr th {\n",
       "        vertical-align: top;\n",
       "    }\n",
       "\n",
       "    .dataframe thead th {\n",
       "        text-align: right;\n",
       "    }\n",
       "</style>\n",
       "<table border=\"1\" class=\"dataframe\">\n",
       "  <thead>\n",
       "    <tr style=\"text-align: right;\">\n",
       "      <th></th>\n",
       "      <th>metro</th>\n",
       "      <th>precio</th>\n",
       "    </tr>\n",
       "  </thead>\n",
       "  <tbody>\n",
       "    <tr>\n",
       "      <th>0</th>\n",
       "      <td>5</td>\n",
       "      <td>375</td>\n",
       "    </tr>\n",
       "    <tr>\n",
       "      <th>1</th>\n",
       "      <td>15</td>\n",
       "      <td>487</td>\n",
       "    </tr>\n",
       "    <tr>\n",
       "      <th>2</th>\n",
       "      <td>20</td>\n",
       "      <td>450</td>\n",
       "    </tr>\n",
       "    <tr>\n",
       "      <th>3</th>\n",
       "      <td>25</td>\n",
       "      <td>500</td>\n",
       "    </tr>\n",
       "  </tbody>\n",
       "</table>\n",
       "</div>"
      ],
      "text/plain": [
       "   metro  precio\n",
       "0      5     375\n",
       "1     15     487\n",
       "2     20     450\n",
       "3     25     500"
      ]
     },
     "execution_count": 4,
     "metadata": {},
     "output_type": "execute_result"
    }
   ],
   "source": [
    "datos.head()"
   ]
  },
  {
   "cell_type": "markdown",
   "id": "3fb1ccc9-61a9-4af1-902c-7b622ef8f039",
   "metadata": {},
   "source": [
    "## Datos en el plano"
   ]
  },
  {
   "cell_type": "code",
   "execution_count": 5,
   "id": "c8586cc0-18ce-4f70-9a1a-e1c0b4561998",
   "metadata": {
    "tags": []
   },
   "outputs": [
    {
     "data": {
      "text/plain": [
       "<function matplotlib.pyplot.show(close=None, block=None)>"
      ]
     },
     "execution_count": 5,
     "metadata": {},
     "output_type": "execute_result"
    },
    {
     "data": {
      "image/png": "[encoded data removed]",
      "text/plain": [
       "<Figure size 640x480 with 1 Axes>"
      ]
     },
     "metadata": {},
     "output_type": "display_data"
    }
   ],
   "source": [
    "datos.plot.scatter(x='metro', y='precio')\n",
    "plt.show"
   ]
  },
  {
   "cell_type": "markdown",
   "id": "0b8ee033-537b-44d2-9322-a4223863e50a",
   "metadata": {},
   "source": [
    "## Modelo de regresión lineal"
   ]
  },
  {
   "cell_type": "code",
   "execution_count": 19,
   "id": "100d0aac-9156-4fca-9b1d-755698e25562",
   "metadata": {
    "tags": []
   },
   "outputs": [],
   "source": [
    "regresion = LinearRegression()"
   ]
  },
  {
   "cell_type": "code",
   "execution_count": 24,
   "id": "77818e1d-fa57-47de-967a-1f56252aa26a",
   "metadata": {
    "tags": []
   },
   "outputs": [],
   "source": [
    "metros = datos[\"metro\"].values.reshape((-1,1))"
   ]
  },
  {
   "cell_type": "code",
   "execution_count": 21,
   "id": "2e76a598-f568-4b53-befe-d6b68ee86ada",
   "metadata": {
    "tags": []
   },
   "outputs": [],
   "source": [
    "modelo = regresion.fit(metros, datos[\"precio\"])"
   ]
  },
  {
   "cell_type": "code",
   "execution_count": 28,
   "id": "60eb2a45-babd-474d-aa35-8df6fa51b181",
   "metadata": {
    "tags": []
   },
   "outputs": [
    {
     "name": "stdout",
     "output_type": "stream",
     "text": [
      "Interseccion (b) : 361.25714285714287\n",
      "Pendiente (m) : [5.64571429]\n"
     ]
    }
   ],
   "source": [
    "print(\"Interseccion (b) :\", modelo.intercept_)\n",
    "b = modelo.intercept_\n",
    "print(\"Pendiente (m) :\", modelo.coef_)\n",
    "m = modelo.coef_"
   ]
  },
  {
   "cell_type": "code",
   "execution_count": 33,
   "id": "2b4f45a3-c236-4539-aaa8-fc804eb9cd17",
   "metadata": {
    "tags": []
   },
   "outputs": [],
   "source": [
    "x = np.linspace(0,datos[\"metro\"].max(), 100)\n",
    "y = b + m*x"
   ]
  },
  {
   "cell_type": "code",
   "execution_count": 39,
   "id": "3de44e05-5920-41f8-a38d-e909af85c7a9",
   "metadata": {
    "tags": []
   },
   "outputs": [
    {
     "data": {
      "text/plain": [
       "<function matplotlib.pyplot.show(close=None, block=None)>"
      ]
     },
     "execution_count": 39,
     "metadata": {},
     "output_type": "execute_result"
    },
    {
     "data": {
      "image/png": "[encoded data removed]",
      "text/plain": [
       "<Figure size 640x480 with 1 Axes>"
      ]
     },
     "metadata": {},
     "output_type": "display_data"
    }
   ],
   "source": [
    "datos.plot.scatter(x='metro', y='precio')\n",
    "plt.plot(x, y, '-r')\n",
    "plt.show"
   ]
  },
  {
   "cell_type": "code",
   "execution_count": null,
   "id": "ef5d19ae-7151-4df6-b4e0-c94e6f7cf463",
   "metadata": {},
   "outputs": [],
   "source": []
  }
 ],
 "metadata": {
  "kernelspec": {
   "display_name": "Python 3 (ipykernel)",
   "language": "python",
   "name": "python3"
  },
  "language_info": {
   "codemirror_mode": {
    "name": "ipython",
    "version": 3
   },
   "file_extension": ".py",
   "mimetype": "text/x-python",
   "name": "python",
   "nbconvert_exporter": "python",
   "pygments_lexer": "ipython3",
   "version": "3.11.4"
  }
 },
 "nbformat": 4,
 "nbformat_minor": 5
}
